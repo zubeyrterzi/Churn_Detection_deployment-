{
 "cells": [
  {
   "cell_type": "code",
   "execution_count": 25,
   "metadata": {},
   "outputs": [],
   "source": [
    "import numpy as np\n",
    "import pandas as pd\n",
    "import matplotlib.pyplot as plt\n",
    "from sklearn.feature_selection import mutual_info_classif\n",
    "from sklearn.feature_selection import SelectKBest\n",
    "from sklearn.model_selection import train_test_split\n",
    "from sklearn.preprocessing import LabelEncoder\n",
    "from sklearn.preprocessing import StandardScaler\n",
    "\n"
   ]
  },
  {
   "cell_type": "code",
   "execution_count": 55,
   "metadata": {},
   "outputs": [],
   "source": [
    "df_train = pd.read_csv('train.csv')\n",
    "df_test = pd.read_csv('test.csv')\n",
    "\n",
    "X = df_train[list(set(df_train.columns.tolist()) - {'churn'})]\n",
    "Y = df_train['churn']\n"
   ]
  },
  {
   "cell_type": "code",
   "execution_count": 56,
   "metadata": {},
   "outputs": [],
   "source": [
    "X.columns\n",
    "X = X.iloc[:,[0,1,8,9,11,15]]"
   ]
  },
  {
   "cell_type": "code",
   "execution_count": 57,
   "metadata": {},
   "outputs": [],
   "source": [
    "mapping = {'yes': 1, 'no': 0}\n",
    "X['international_plan'] = X.iloc[:, 3].map(mapping)\n"
   ]
  },
  {
   "cell_type": "code",
   "execution_count": 58,
   "metadata": {},
   "outputs": [],
   "source": [
    "Xtrain, Xtest, Ytrain, Ytest = train_test_split(X, Y, test_size = 0.1, random_state = 11, shuffle = True)"
   ]
  },
  {
   "cell_type": "code",
   "execution_count": 62,
   "metadata": {},
   "outputs": [
    {
     "data": {
      "text/plain": [
       "0.8494117647058823"
      ]
     },
     "execution_count": 62,
     "metadata": {},
     "output_type": "execute_result"
    }
   ],
   "source": [
    "from sklearn.ensemble import RandomForestClassifier\n",
    "from sklearn.metrics import classification_report, accuracy_score\n",
    "\n",
    "clf = RandomForestClassifier()\n",
    "\n",
    "clf.fit(Xtrain, Ytrain)\n",
    "predicted = clf.predict(Xtest)\n",
    "\n",
    "accuracy_score(Ytest, predicted)"
   ]
  },
  {
   "cell_type": "code",
   "execution_count": 63,
   "metadata": {},
   "outputs": [],
   "source": [
    "import pickle\n",
    "\n",
    "with open('basic_m.pkl', 'wb') as f:\n",
    "    pickle.dump(clf, f)"
   ]
  },
  {
   "cell_type": "code",
   "execution_count": 64,
   "metadata": {},
   "outputs": [
    {
     "data": {
      "text/html": [
       "<div>\n",
       "<style scoped>\n",
       "    .dataframe tbody tr th:only-of-type {\n",
       "        vertical-align: middle;\n",
       "    }\n",
       "\n",
       "    .dataframe tbody tr th {\n",
       "        vertical-align: top;\n",
       "    }\n",
       "\n",
       "    .dataframe thead th {\n",
       "        text-align: right;\n",
       "    }\n",
       "</style>\n",
       "<table border=\"1\" class=\"dataframe\">\n",
       "  <thead>\n",
       "    <tr style=\"text-align: right;\">\n",
       "      <th></th>\n",
       "      <th>total_night_minutes</th>\n",
       "      <th>number_vmail_messages</th>\n",
       "      <th>total_eve_charge</th>\n",
       "      <th>international_plan</th>\n",
       "      <th>total_day_calls</th>\n",
       "      <th>total_intl_charge</th>\n",
       "    </tr>\n",
       "  </thead>\n",
       "  <tbody>\n",
       "    <tr>\n",
       "      <th>0</th>\n",
       "      <td>254.4</td>\n",
       "      <td>26</td>\n",
       "      <td>16.62</td>\n",
       "      <td>0</td>\n",
       "      <td>123</td>\n",
       "      <td>3.70</td>\n",
       "    </tr>\n",
       "    <tr>\n",
       "      <th>1</th>\n",
       "      <td>162.6</td>\n",
       "      <td>0</td>\n",
       "      <td>10.30</td>\n",
       "      <td>0</td>\n",
       "      <td>114</td>\n",
       "      <td>3.29</td>\n",
       "    </tr>\n",
       "    <tr>\n",
       "      <th>2</th>\n",
       "      <td>196.9</td>\n",
       "      <td>0</td>\n",
       "      <td>5.26</td>\n",
       "      <td>1</td>\n",
       "      <td>71</td>\n",
       "      <td>1.78</td>\n",
       "    </tr>\n",
       "    <tr>\n",
       "      <th>3</th>\n",
       "      <td>186.9</td>\n",
       "      <td>0</td>\n",
       "      <td>12.61</td>\n",
       "      <td>1</td>\n",
       "      <td>113</td>\n",
       "      <td>2.73</td>\n",
       "    </tr>\n",
       "    <tr>\n",
       "      <th>4</th>\n",
       "      <td>212.6</td>\n",
       "      <td>24</td>\n",
       "      <td>29.62</td>\n",
       "      <td>0</td>\n",
       "      <td>88</td>\n",
       "      <td>2.03</td>\n",
       "    </tr>\n",
       "    <tr>\n",
       "      <th>...</th>\n",
       "      <td>...</td>\n",
       "      <td>...</td>\n",
       "      <td>...</td>\n",
       "      <td>...</td>\n",
       "      <td>...</td>\n",
       "      <td>...</td>\n",
       "    </tr>\n",
       "    <tr>\n",
       "      <th>4245</th>\n",
       "      <td>213.7</td>\n",
       "      <td>0</td>\n",
       "      <td>20.72</td>\n",
       "      <td>0</td>\n",
       "      <td>70</td>\n",
       "      <td>2.78</td>\n",
       "    </tr>\n",
       "    <tr>\n",
       "      <th>4246</th>\n",
       "      <td>186.2</td>\n",
       "      <td>0</td>\n",
       "      <td>11.15</td>\n",
       "      <td>0</td>\n",
       "      <td>89</td>\n",
       "      <td>3.11</td>\n",
       "    </tr>\n",
       "    <tr>\n",
       "      <th>4247</th>\n",
       "      <td>129.1</td>\n",
       "      <td>0</td>\n",
       "      <td>16.41</td>\n",
       "      <td>0</td>\n",
       "      <td>101</td>\n",
       "      <td>1.86</td>\n",
       "    </tr>\n",
       "    <tr>\n",
       "      <th>4248</th>\n",
       "      <td>297.5</td>\n",
       "      <td>40</td>\n",
       "      <td>18.96</td>\n",
       "      <td>0</td>\n",
       "      <td>127</td>\n",
       "      <td>2.67</td>\n",
       "    </tr>\n",
       "    <tr>\n",
       "      <th>4249</th>\n",
       "      <td>154.8</td>\n",
       "      <td>34</td>\n",
       "      <td>22.70</td>\n",
       "      <td>0</td>\n",
       "      <td>102</td>\n",
       "      <td>2.51</td>\n",
       "    </tr>\n",
       "  </tbody>\n",
       "</table>\n",
       "<p>4250 rows × 6 columns</p>\n",
       "</div>"
      ],
      "text/plain": [
       "      total_night_minutes  number_vmail_messages  total_eve_charge  \\\n",
       "0                   254.4                     26             16.62   \n",
       "1                   162.6                      0             10.30   \n",
       "2                   196.9                      0              5.26   \n",
       "3                   186.9                      0             12.61   \n",
       "4                   212.6                     24             29.62   \n",
       "...                   ...                    ...               ...   \n",
       "4245                213.7                      0             20.72   \n",
       "4246                186.2                      0             11.15   \n",
       "4247                129.1                      0             16.41   \n",
       "4248                297.5                     40             18.96   \n",
       "4249                154.8                     34             22.70   \n",
       "\n",
       "      international_plan  total_day_calls  total_intl_charge  \n",
       "0                      0              123               3.70  \n",
       "1                      0              114               3.29  \n",
       "2                      1               71               1.78  \n",
       "3                      1              113               2.73  \n",
       "4                      0               88               2.03  \n",
       "...                  ...              ...                ...  \n",
       "4245                   0               70               2.78  \n",
       "4246                   0               89               3.11  \n",
       "4247                   0              101               1.86  \n",
       "4248                   0              127               2.67  \n",
       "4249                   0              102               2.51  \n",
       "\n",
       "[4250 rows x 6 columns]"
      ]
     },
     "execution_count": 64,
     "metadata": {},
     "output_type": "execute_result"
    }
   ],
   "source": [
    "X"
   ]
  },
  {
   "cell_type": "code",
   "execution_count": null,
   "metadata": {},
   "outputs": [],
   "source": []
  }
 ],
 "metadata": {
  "kernelspec": {
   "display_name": "base",
   "language": "python",
   "name": "python3"
  },
  "language_info": {
   "codemirror_mode": {
    "name": "ipython",
    "version": 3
   },
   "file_extension": ".py",
   "mimetype": "text/x-python",
   "name": "python",
   "nbconvert_exporter": "python",
   "pygments_lexer": "ipython3",
   "version": "3.9.15"
  },
  "orig_nbformat": 4,
  "vscode": {
   "interpreter": {
    "hash": "e8c5c0ab49d1b2b56dd094925e4af6436c6daa60d758265aa58746a1c8dc204a"
   }
  }
 },
 "nbformat": 4,
 "nbformat_minor": 2
}
